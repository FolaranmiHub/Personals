{
 "cells": [
  {
   "cell_type": "code",
   "execution_count": null,
   "metadata": {},
   "outputs": [],
   "source": [
    "import random\n",
    "\n",
    "#define moves\n",
    "moves = [\"Rock\", \"Paper\", \"Scissors\"]\n",
    "\n",
    "#define computer move\n",
    "com_moves = random.choice(moves)\n",
    "\n",
    "#Make Argument\n",
    "Play_around = True\n",
    "\n",
    "#Main body of code\n",
    "while True:\n",
    "    \n",
    "    player_moves = input(\"What is your move: Rock, Paper or Scissor?\" )\n",
    "    print(\"The computer chose\", com_moves)\n",
    "    \n",
    "    if com_moves == player_moves:\n",
    "        print(\"That is a tie\")\n",
    "        \n",
    "    elif player_moves == \"Rock\" and com_moves == \"Scissors\":\n",
    "        print(\"Congratulations!!! The Player wins.\")\n",
    "        \n",
    "    elif player_moves == \"Rock\" and com_moves == \"Paper\":\n",
    "        print(\"Congratulations!!! The Computer wins.\")\n",
    "        \n",
    "    elif player_moves == \"Paper\" and com_moves == \"Rock\":\n",
    "        print(\"Congratulations!!! The Player wins.\")\n",
    "        \n",
    "    elif player_moves == \"Paper\" and com_moves == \"Scissors\":\n",
    "        print(\"Congratulations!!! The Computer wins.\")\n",
    "        \n",
    "    elif player_moves == \"Scissors\" and com_moves == \"Paper\":\n",
    "        print(\"Congratulations!!! The Player wins.\")\n",
    "        \n",
    "    elif player_moves == \"Scissors\" and com_moves == \"Rock\":\n",
    "        print(\"Congratulations!!! The Computer wins.\")\n",
    "        \n",
    "        \n",
    "        \n",
    "        \n",
    "        \n",
    "        \n",
    "        \n",
    "        \n",
    "        "
   ]
  },
  {
   "cell_type": "code",
   "execution_count": null,
   "metadata": {},
   "outputs": [],
   "source": []
  }
 ],
 "metadata": {
  "kernelspec": {
   "display_name": "Python 3",
   "language": "python",
   "name": "python3"
  },
  "language_info": {
   "codemirror_mode": {
    "name": "ipython",
    "version": 3
   },
   "file_extension": ".py",
   "mimetype": "text/x-python",
   "name": "python",
   "nbconvert_exporter": "python",
   "pygments_lexer": "ipython3",
   "version": "3.6.5"
  }
 },
 "nbformat": 4,
 "nbformat_minor": 2
}
